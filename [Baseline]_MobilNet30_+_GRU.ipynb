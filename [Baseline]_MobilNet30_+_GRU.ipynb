{
  "cells": [
    {
      "cell_type": "markdown",
      "metadata": {
        "id": "view-in-github",
        "colab_type": "text"
      },
      "source": [
        "<a href=\"https://colab.research.google.com/github/Gayeon6423/TAVE-Image_Captioning/blob/main/%5BBaseline%5D_MobilNet30_%2B_GRU.ipynb\" target=\"_parent\"><img src=\"https://colab.research.google.com/assets/colab-badge.svg\" alt=\"Open In Colab\"/></a>"
      ]
    },
    {
      "cell_type": "markdown",
      "metadata": {
        "id": "7691610e-65b8-4955-8a4d-27fca9b76373"
      },
      "source": [
        "## Import"
      ],
      "id": "7691610e-65b8-4955-8a4d-27fca9b76373"
    },
    {
      "cell_type": "code",
      "execution_count": 1,
      "metadata": {
        "colab": {
          "base_uri": "https://localhost:8080/"
        },
        "id": "Pt7f6824baNR",
        "outputId": "329301cd-4525-440e-f98f-322feb847108"
      },
      "outputs": [
        {
          "output_type": "stream",
          "name": "stdout",
          "text": [
            "Sat Jan 13 05:06:04 2024       \n",
            "+---------------------------------------------------------------------------------------+\n",
            "| NVIDIA-SMI 535.104.05             Driver Version: 535.104.05   CUDA Version: 12.2     |\n",
            "|-----------------------------------------+----------------------+----------------------+\n",
            "| GPU  Name                 Persistence-M | Bus-Id        Disp.A | Volatile Uncorr. ECC |\n",
            "| Fan  Temp   Perf          Pwr:Usage/Cap |         Memory-Usage | GPU-Util  Compute M. |\n",
            "|                                         |                      |               MIG M. |\n",
            "|=========================================+======================+======================|\n",
            "|   0  Tesla T4                       Off | 00000000:00:04.0 Off |                    0 |\n",
            "| N/A   35C    P8               9W /  70W |      0MiB / 15360MiB |      0%      Default |\n",
            "|                                         |                      |                  N/A |\n",
            "+-----------------------------------------+----------------------+----------------------+\n",
            "                                                                                         \n",
            "+---------------------------------------------------------------------------------------+\n",
            "| Processes:                                                                            |\n",
            "|  GPU   GI   CI        PID   Type   Process name                            GPU Memory |\n",
            "|        ID   ID                                                             Usage      |\n",
            "|=======================================================================================|\n",
            "|  No running processes found                                                           |\n",
            "+---------------------------------------------------------------------------------------+\n",
            "Your runtime has 54.8 gigabytes of available RAM\n",
            "\n",
            "You are using a high-RAM runtime!\n"
          ]
        }
      ],
      "source": [
        "from psutil import virtual_memory\n",
        "gpu_info = !nvidia-smi\n",
        "gpu_info = '\\n'.join(gpu_info)\n",
        "if gpu_info.find('failed') >= 0:\n",
        "  print('Not connected to a GPU')\n",
        "else:\n",
        "  print(gpu_info)\n",
        "ram_gb = virtual_memory().total / 1e9\n",
        "print('Your runtime has {:.1f} gigabytes of available RAM\\n'.format(ram_gb))\n",
        "if ram_gb < 20:\n",
        "  print('Not using a high-RAM runtime')\n",
        "else:\n",
        "  print('You are using a high-RAM runtime!')"
      ],
      "id": "Pt7f6824baNR"
    },
    {
      "cell_type": "code",
      "execution_count": 2,
      "metadata": {
        "colab": {
          "base_uri": "https://localhost:8080/"
        },
        "id": "LiD2Uq2GCxHv",
        "outputId": "1ef8470a-8b60-4ec8-e9bc-231c43377391"
      },
      "outputs": [
        {
          "output_type": "stream",
          "name": "stdout",
          "text": [
            "Drive already mounted at /content/drive; to attempt to forcibly remount, call drive.mount(\"/content/drive\", force_remount=True).\n"
          ]
        }
      ],
      "source": [
        "from google.colab import drive\n",
        "drive.mount('/content/drive')"
      ],
      "id": "LiD2Uq2GCxHv"
    },
    {
      "cell_type": "code",
      "execution_count": 3,
      "metadata": {
        "id": "2bb06abd-6a59-4298-976d-f2cd487e9ad5"
      },
      "outputs": [],
      "source": [
        "import torch\n",
        "import torch.nn as nn\n",
        "import pandas as pd\n",
        "import torchvision.transforms as transforms\n",
        "import torchvision.models as models\n",
        "from torch.utils.data import Dataset, DataLoader\n",
        "from PIL import Image\n",
        "from tqdm import tqdm\n",
        "import os\n",
        "import numpy as np\n",
        "import random\n",
        "import warnings\n",
        "warnings.filterwarnings(action='ignore')"
      ],
      "id": "2bb06abd-6a59-4298-976d-f2cd487e9ad5"
    },
    {
      "cell_type": "markdown",
      "metadata": {
        "id": "26806a2c-9755-45f2-b945-4cdc26dc4165"
      },
      "source": [
        "## Hyperparameter Settings"
      ],
      "id": "26806a2c-9755-45f2-b945-4cdc26dc4165"
    },
    {
      "cell_type": "code",
      "execution_count": 4,
      "metadata": {
        "id": "eaffb268-9a47-45da-942b-f6b60b52b7ba"
      },
      "outputs": [],
      "source": [
        "CFG = {\n",
        "    'IMG_SIZE':224,\n",
        "    'EPOCHS':10,\n",
        "    'LR':0.01,\n",
        "    'BATCH_SIZE':64,\n",
        "    'SEED':41\n",
        "    }"
      ],
      "id": "eaffb268-9a47-45da-942b-f6b60b52b7ba"
    },
    {
      "cell_type": "markdown",
      "metadata": {
        "id": "09b0fbf6-43b7-4d09-81da-149147f5fa44"
      },
      "source": [
        "## Fixed Random-Seed"
      ],
      "id": "09b0fbf6-43b7-4d09-81da-149147f5fa44"
    },
    {
      "cell_type": "code",
      "execution_count": 5,
      "metadata": {
        "id": "1a0e6a64-4f23-4813-9426-e0b56ce797ab"
      },
      "outputs": [],
      "source": [
        "def seed_everything(seed):\n",
        "    random.seed(seed)\n",
        "    os.environ['PYTHONHASHSEED'] = str(seed)\n",
        "    np.random.seed(seed)\n",
        "    torch.manual_seed(seed)\n",
        "    torch.cuda.manual_seed(seed)\n",
        "    torch.backends.cudnn.deterministic = True\n",
        "    torch.backends.cudnn.benchmark = True\n",
        "\n",
        "seed_everything(CFG['SEED']) # Seed 고정"
      ],
      "id": "1a0e6a64-4f23-4813-9426-e0b56ce797ab"
    },
    {
      "cell_type": "markdown",
      "metadata": {
        "id": "L3Ybx6Amb7IV"
      },
      "source": [
        "## Load Data"
      ],
      "id": "L3Ybx6Amb7IV"
    },
    {
      "cell_type": "code",
      "execution_count": 25,
      "metadata": {
        "colab": {
          "base_uri": "https://localhost:8080/"
        },
        "id": "F-cSlE6Db6u7",
        "outputId": "463f9716-6309-4f40-de50-c5ad75e25e7d"
      },
      "outputs": [
        {
          "output_type": "stream",
          "name": "stdout",
          "text": [
            "raw train data shape :  (70, 4)\n",
            "raw test data shape :  (30, 2)\n"
          ]
        }
      ],
      "source": [
        "# Real Data\n",
        "train_data = pd.read_csv('/content/drive/MyDrive/Tave_Project_MultiModal/Data/train.csv')[:70]\n",
        "test_data = pd.read_csv('/content/drive/MyDrive/Tave_Project_MultiModal/Data/test.csv')[:30]\n",
        "\n",
        "print('raw train data shape : ', train_data.shape)\n",
        "print('raw test data shape : ', test_data.shape)"
      ],
      "id": "F-cSlE6Db6u7"
    },
    {
      "cell_type": "code",
      "execution_count": 26,
      "metadata": {
        "id": "WltaeMQVEe4T"
      },
      "outputs": [],
      "source": [
        "# def load_jpg_image(file_path):\n",
        "#     image = Image.open(file_path)\n",
        "#     width, height = image.size\n",
        "#     print(f'이미지 너비:{width}, 이미지 높이:{height}')\n",
        "#     return image\n",
        "\n",
        "# jpg_path = '/content/drive/MyDrive/Tave_Project_MultiModal/Data/train/0a0nbjgefy.jpg'\n",
        "# load_image = load_jpg_image(jpg_path)\n",
        "# load_image"
      ],
      "id": "WltaeMQVEe4T"
    },
    {
      "cell_type": "markdown",
      "metadata": {
        "id": "UT0pZXIKWgAS"
      },
      "source": [
        "## Preprocess Dataset"
      ],
      "id": "UT0pZXIKWgAS"
    },
    {
      "cell_type": "markdown",
      "metadata": {
        "id": "bcae6476-b1cc-434b-8f86-5149a283858d"
      },
      "source": [
        "- Custom Dataset"
      ],
      "id": "bcae6476-b1cc-434b-8f86-5149a283858d"
    },
    {
      "cell_type": "code",
      "execution_count": 27,
      "metadata": {
        "id": "HBGiAwuXrFUV"
      },
      "outputs": [],
      "source": [
        "# CustomDataset 클래스 정의\n",
        "class CustomDataset(Dataset):\n",
        "    # 생성자 메서드: 데이터프레임과 변환 함수를 초기화\n",
        "    def __init__(self, dataframe, transform=None):\n",
        "        self.dataframe = dataframe  # 전달받은 데이터프레임 저장\n",
        "        self.transform = transform  # 전달받은 이미지 변환 함수 저장\n",
        "\n",
        "    # 데이터셋의 총 길이 반환 메서드\n",
        "    def __len__(self):\n",
        "        return len(self.dataframe)  # 데이터프레임의 길이 반환\n",
        "\n",
        "    # 주어진 인덱스에 해당하는 데이터 반환 메서드\n",
        "    def __getitem__(self, idx):\n",
        "        # 인덱스에 해당하는 이미지 파일 경로 가져오기\n",
        "        img_path = self.dataframe.iloc[idx]['img_path']\n",
        "        # 이미지 열기 및 RGB로 변환\n",
        "        img = Image.open(img_path).convert('RGB')\n",
        "        # 이미지에 변환 함수가 지정되어 있으면 적용\n",
        "        if self.transform:\n",
        "            img = self.transform(img)\n",
        "        # 'mos' 컬럼이 데이터프레임에 존재하면 해당 값을 가져오고, 아니면 0.0으로 설정\n",
        "        mos = float(self.dataframe.iloc[idx]['mos']) if 'mos' in self.dataframe.columns else 0.0\n",
        "        # 'comments' 컬럼이 데이터프레임에 존재하면 해당 값을 가져오고, 아니면 빈 문자열로 설정\n",
        "        comment = self.dataframe.iloc[idx]['comments'] if 'comments' in self.dataframe.columns else \"\"\n",
        "        # 이미지, mos 값, comment 반환\n",
        "        return img, mos, comment"
      ],
      "id": "HBGiAwuXrFUV"
    },
    {
      "cell_type": "markdown",
      "metadata": {
        "id": "fb969079-ac51-4a58-a7ac-20d27486022a"
      },
      "source": [
        "## Define Model"
      ],
      "id": "fb969079-ac51-4a58-a7ac-20d27486022a"
    },
    {
      "cell_type": "markdown",
      "source": [
        "- Base Model"
      ],
      "metadata": {
        "id": "6dNfePMdlV0C"
      },
      "id": "6dNfePMdlV0C"
    },
    {
      "cell_type": "markdown",
      "source": [
        "\n",
        "\n",
        "```\n",
        "class BaseModel(nn.Module):\n",
        "    # 생성자 메서드: 어휘 크기, 임베딩 차원, 히든 차원 초기화\n",
        "    def __init__(self, vocab_size, embed_dim=256, hidden_dim=512):\n",
        "        super(BaseModel, self).__init__()\n",
        "\n",
        "        # ResNet50을 이용한 이미지 특성 추출\n",
        "        self.cnn_backbone = models.resnet50(pretrained=True)\n",
        "        # 마지막 완전 연결 레이어를 제거하여 특성을 얻음\n",
        "        modules = list(self.cnn_backbone.children())[:-1]\n",
        "        self.cnn = nn.Sequential(*modules)\n",
        "        # Image quality assessment head\n",
        "        self.regression_head = nn.Linear(2048, 1)  # ResNet50 last layer has 2048 features\n",
        "        # Captioning head\n",
        "        self.embedding = nn.Embedding(vocab_size, embed_dim)\n",
        "        # 이미지 특성과 캡션 임베딩을 입력으로 받음\n",
        "        self.lstm = nn.LSTM(embed_dim + 2048, hidden_dim)\n",
        "        self.fc = nn.Linear(hidden_dim, vocab_size)\n",
        "\n",
        "    # 순전파 메서드 정의\n",
        "    def forward(self, images, captions=None):\n",
        "        # CNN\n",
        "        features = self.cnn(images)\n",
        "        # 주어진 특성을 2D 텐서 -> 1D 텐서(하나의 벡터)로 변환\n",
        "        features_flat = features.view(features.size(0), -1)\n",
        "        # Image quality regression\n",
        "        mos = self.regression_head(features_flat)\n",
        "\n",
        "        # LSTM captioning\n",
        "        if captions is not None:\n",
        "            embeddings = self.embedding(captions)\n",
        "            # 이미지 특성과 캡션 임베딩을 각 단어에 대해 연결\n",
        "            combined = torch.cat([features_flat.unsqueeze(1).repeat(1, embeddings.size(1), 1), embeddings], dim=2)\n",
        "            # LSTM\n",
        "            lstm_out, _ = self.lstm(combined)\n",
        "            # OUTPUT\n",
        "            outputs = self.fc(lstm_out)\n",
        "            return mos, outputs\n",
        "        else:\n",
        "            return mos, None\n",
        "```\n",
        "\n"
      ],
      "metadata": {
        "id": "5VKuRrDBV34s"
      },
      "id": "5VKuRrDBV34s"
    },
    {
      "cell_type": "markdown",
      "metadata": {
        "id": "TISL987FObe5"
      },
      "source": [
        "- Alpha Modeling"
      ],
      "id": "TISL987FObe5"
    },
    {
      "cell_type": "code",
      "execution_count": 28,
      "metadata": {
        "id": "Td-hTDmiPMF2"
      },
      "outputs": [],
      "source": [
        "class BaseModel(nn.Module):\n",
        "    # 생성자 메서드: 어휘 크기, 임베딩 차원, 히든 차원 초기화\n",
        "    def __init__(self, vocab_size, embed_dim=256, hidden_dim=512):\n",
        "        super(BaseModel, self).__init__()\n",
        "\n",
        "        # 이미지 특성 추출\n",
        "        # self.cnn_backbone = models.resnet50(pretrained=True) # ResNet50\n",
        "        self.cnn_backbone = models.mobilenet_v3_large(pretrained=True) # Mobilenet_v3\n",
        "        # 마지막 완전 연결 레이어를 제거하여 특성을 얻음\n",
        "        modules = list(self.cnn_backbone.children())[:-1]\n",
        "        self.cnn = nn.Sequential(*modules)\n",
        "\n",
        "        # Image quality assessment head\n",
        "        # self.regression_head = nn.Linear(2048, 1) # ResNet50:2048 features\n",
        "        self.regression_head = nn.Linear(960, 1) # Moblienet: 960 features\n",
        "        # Captioning head\n",
        "        self.embedding = nn.Embedding(vocab_size, embed_dim)\n",
        "\n",
        "        # 이미지 특성과 캡션 임베딩을 입력으로 받음\n",
        "        # self.lstm = nn.LSTM(embed_dim + 2048, hidden_dim) # ResNet50 + LSTM\n",
        "        # self.gru = nn.GRU(embed_dim + 2048, hidden_dim) # ResNet50 + GRU\n",
        "        # self.lstm = nn.LSTM(embed_dim + 960, hidden_dim) # Mobilenet_v3 + LSTM\n",
        "        self.gru = nn.GRU(embed_dim + 960, hidden_dim) # Mobilenet_v3 + GRU\n",
        "        self.fc = nn.Linear(hidden_dim, vocab_size)\n",
        "\n",
        "    # 순전파 메서드 정의\n",
        "    def forward(self, images, captions=None):\n",
        "        # CNN\n",
        "        features = self.cnn(images)\n",
        "        # 주어진 특성을 2D 텐서 -> 1D 텐서(하나의 벡터)로 변환\n",
        "        features_flat = features.view(features.size(0), -1)\n",
        "        # Image quality regression\n",
        "        mos = self.regression_head(features_flat)\n",
        "\n",
        "        # Image captioning\n",
        "        if captions is not None:\n",
        "            embeddings = self.embedding(captions)\n",
        "            # 이미지 특성과 캡션 임베딩을 각 단어에 대해 연결\n",
        "            combined = torch.cat([features_flat.unsqueeze(1).repeat(1, embeddings.size(1), 1), embeddings], dim=2)\n",
        "\n",
        "            # Caption Layer\n",
        "            # lstm_out, _ = self.lstm(combined) # Caption : LSTM\n",
        "            gru_out, _ = self.gru(combined) # Caption : GRU\n",
        "            # OUTPUT\n",
        "            # outputs = self.fc(lstm_out) # Caption : LSTM\n",
        "            outputs = self.fc(gru_out) # Caption : GRU\n",
        "            return mos, outputs\n",
        "        else:\n",
        "            return mos, None"
      ],
      "id": "Td-hTDmiPMF2"
    },
    {
      "cell_type": "code",
      "execution_count": 29,
      "metadata": {
        "collapsed": true,
        "id": "a36b9f43-93c5-4c1f-bb4f-e3dae2392e3d"
      },
      "outputs": [],
      "source": [
        "# 단어 사전 생성\n",
        "all_comments = ' '.join(train_data['comments']).split()\n",
        "vocab = set(all_comments) # 중복 제거\n",
        "vocab = ['<PAD>', '<SOS>', '<EOS>'] + list(vocab)\n",
        "word2idx = {word: idx for idx, word in enumerate(vocab)}\n",
        "idx2word = {idx: word for word, idx in word2idx.items()}\n",
        "\n",
        "# 데이터셋 및 DataLoader 생성\n",
        "transform = transforms.Compose([\n",
        "    transforms.Resize((CFG['IMG_SIZE'], CFG['IMG_SIZE'])),\n",
        "    transforms.ToTensor()])\n",
        "\n",
        "train_dataset = CustomDataset(train_data, transform)\n",
        "train_loader = DataLoader(train_dataset, batch_size=CFG['BATCH_SIZE'], shuffle=True)\n",
        "\n",
        "# 모델, 손실함수, 옵티마이저\n",
        "model = BaseModel(len(vocab)).cuda()\n",
        "# 화질 점수 평가 산식\n",
        "criterion1 = nn.MSELoss()\n",
        "# 캡셔닝 평가 산식\n",
        "criterion2 = nn.CrossEntropyLoss(ignore_index=word2idx['<PAD>'])\n",
        "optimizer = torch.optim.Adam(model.parameters(), lr=CFG['LR'])"
      ],
      "id": "a36b9f43-93c5-4c1f-bb4f-e3dae2392e3d"
    },
    {
      "cell_type": "code",
      "execution_count": 30,
      "metadata": {
        "colab": {
          "base_uri": "https://localhost:8080/"
        },
        "id": "0PIngygdHSSY",
        "outputId": "8a9c898d-413b-4165-c240-9f12346c6384"
      },
      "outputs": [
        {
          "output_type": "stream",
          "name": "stderr",
          "text": [
            "Epoch 1: 100%|██████████| 2/2 [00:01<00:00,  1.62it/s, loss=12.4]\n"
          ]
        },
        {
          "output_type": "stream",
          "name": "stdout",
          "text": [
            "Epoch 1 finished with average loss: 26.2382\n"
          ]
        },
        {
          "output_type": "stream",
          "name": "stderr",
          "text": [
            "Epoch 2: 100%|██████████| 2/2 [00:01<00:00,  1.67it/s, loss=5.08]\n"
          ]
        },
        {
          "output_type": "stream",
          "name": "stdout",
          "text": [
            "Epoch 2 finished with average loss: 14.6108\n"
          ]
        },
        {
          "output_type": "stream",
          "name": "stderr",
          "text": [
            "Epoch 3: 100%|██████████| 2/2 [00:01<00:00,  1.89it/s, loss=15.6]\n"
          ]
        },
        {
          "output_type": "stream",
          "name": "stdout",
          "text": [
            "Epoch 3 finished with average loss: 14.9701\n"
          ]
        },
        {
          "output_type": "stream",
          "name": "stderr",
          "text": [
            "Epoch 4: 100%|██████████| 2/2 [00:01<00:00,  1.93it/s, loss=4.52]\n"
          ]
        },
        {
          "output_type": "stream",
          "name": "stdout",
          "text": [
            "Epoch 4 finished with average loss: 8.8979\n"
          ]
        },
        {
          "output_type": "stream",
          "name": "stderr",
          "text": [
            "Epoch 5: 100%|██████████| 2/2 [00:01<00:00,  1.93it/s, loss=10.3]\n"
          ]
        },
        {
          "output_type": "stream",
          "name": "stdout",
          "text": [
            "Epoch 5 finished with average loss: 8.2552\n"
          ]
        },
        {
          "output_type": "stream",
          "name": "stderr",
          "text": [
            "Epoch 6: 100%|██████████| 2/2 [00:01<00:00,  1.91it/s, loss=6.07]\n"
          ]
        },
        {
          "output_type": "stream",
          "name": "stdout",
          "text": [
            "Epoch 6 finished with average loss: 5.9714\n"
          ]
        },
        {
          "output_type": "stream",
          "name": "stderr",
          "text": [
            "Epoch 7: 100%|██████████| 2/2 [00:01<00:00,  1.86it/s, loss=3.52]\n"
          ]
        },
        {
          "output_type": "stream",
          "name": "stdout",
          "text": [
            "Epoch 7 finished with average loss: 4.0235\n"
          ]
        },
        {
          "output_type": "stream",
          "name": "stderr",
          "text": [
            "Epoch 8: 100%|██████████| 2/2 [00:01<00:00,  1.91it/s, loss=2.68]\n"
          ]
        },
        {
          "output_type": "stream",
          "name": "stdout",
          "text": [
            "Epoch 8 finished with average loss: 3.2117\n"
          ]
        },
        {
          "output_type": "stream",
          "name": "stderr",
          "text": [
            "Epoch 9: 100%|██████████| 2/2 [00:01<00:00,  1.74it/s, loss=2.35]\n"
          ]
        },
        {
          "output_type": "stream",
          "name": "stdout",
          "text": [
            "Epoch 9 finished with average loss: 2.7107\n"
          ]
        },
        {
          "output_type": "stream",
          "name": "stderr",
          "text": [
            "Epoch 10: 100%|██████████| 2/2 [00:01<00:00,  1.75it/s, loss=1.95]"
          ]
        },
        {
          "output_type": "stream",
          "name": "stdout",
          "text": [
            "Epoch 10 finished with average loss: 2.1017\n"
          ]
        },
        {
          "output_type": "stream",
          "name": "stderr",
          "text": [
            "\n"
          ]
        }
      ],
      "source": [
        "# 학습\n",
        "model.train() # 모델을 학습 모드로 설정\n",
        "\n",
        "# 에폭 반복(모델 10번 학습)\n",
        "for epoch in range(CFG['EPOCHS']):\n",
        "    total_loss = 0 # 에폭별 총 손실 초기화\n",
        "    loop = tqdm(train_loader, leave=True) # 학습 진행바 확인\n",
        "\n",
        "    # 미니배치 반복(전체 데이터 64개로 나누어서 학습)\n",
        "    for imgs, mos, comments in loop:\n",
        "        # 이미지와 MOS값을 GPU로 이동(훈련 및 추론이 GPU에서 진행)\n",
        "        imgs, mos = imgs.float().cuda(), mos.float().cuda()\n",
        "\n",
        "        # Batch Preprocessing\n",
        "        comments_tensor = torch.zeros((len(comments), len(max(comments, key=len)))).long().cuda()\n",
        "        for i, comment in enumerate(comments):\n",
        "            # 시작 토큰과 끝 토큰 추가하여 토큰화\n",
        "            tokenized = ['<SOS>'] + comment.split() + ['<EOS>']\n",
        "            comments_tensor[i, :len(tokenized)] = torch.tensor([word2idx[word] for word in tokenized])\n",
        "\n",
        "        # Forward & Loss\n",
        "        predicted_mos, predicted_comments = model(imgs, comments_tensor)\n",
        "        # 이미지 품질 손실\n",
        "        loss1 = criterion1(predicted_mos.squeeze(1), mos)\n",
        "        # 캡션 생성 손실\n",
        "        loss2 = criterion2(predicted_comments.view(-1, len(vocab)), comments_tensor.view(-1))\n",
        "        # 전체 손실\n",
        "        loss = loss1 + loss2\n",
        "\n",
        "        # Backpropagation\n",
        "        optimizer.zero_grad()\n",
        "        loss.backward()\n",
        "        optimizer.step()\n",
        "\n",
        "        # 총 손실 누적\n",
        "        total_loss += loss.item()\n",
        "        loop.set_description(f\"Epoch {epoch + 1}\")\n",
        "        loop.set_postfix(loss=loss.item()) # 현재 미니배치의 손실 출력\n",
        "\n",
        "    # 에폭 종료 후 평균 손실 출력\n",
        "    print(f\"Epoch {epoch + 1} finished with average loss: {total_loss / len(train_loader):.4f}\")"
      ],
      "id": "0PIngygdHSSY"
    },
    {
      "cell_type": "markdown",
      "metadata": {
        "id": "864072e8-85dc-435d-9198-5b9e1f61bd24"
      },
      "source": [
        "## Inference & Submit"
      ],
      "id": "864072e8-85dc-435d-9198-5b9e1f61bd24"
    },
    {
      "cell_type": "code",
      "execution_count": 31,
      "metadata": {
        "id": "cI-Gxic2CjvW"
      },
      "outputs": [],
      "source": [
        "# 버전 명 입력\n",
        "version_name = 'Mobilnet_v3+GRU_700_300'"
      ],
      "id": "cI-Gxic2CjvW"
    },
    {
      "cell_type": "code",
      "source": [
        "# 테스트 데이터셋 및 변환 함수를 사용하여 CustomDataset 생성\n",
        "test_dataset = CustomDataset(test_data, transform)\n",
        "# DataLoader를 사용하여 테스트 데이터를 미니배치로 로드\n",
        "test_loader = DataLoader(test_dataset, batch_size=32, shuffle=False)\n",
        "# 모델을 평가 모드로 설정\n",
        "model.eval()\n",
        "# 예측된 MOS 점수 및 캡션을 저장할 리스트 초기화\n",
        "predicted_mos_list = []\n",
        "predicted_comments_list = []"
      ],
      "metadata": {
        "id": "j9cxwOd2hXuU"
      },
      "id": "j9cxwOd2hXuU",
      "execution_count": 32,
      "outputs": []
    },
    {
      "cell_type": "code",
      "execution_count": 33,
      "metadata": {
        "collapsed": true,
        "id": "e881eb92-a172-479e-92e2-38f852a488e5"
      },
      "outputs": [],
      "source": [
        "# greedy_decode 함수 정의\n",
        "def greedy_decode(model, image, max_length=50):\n",
        "    image = image.unsqueeze(0).cuda()\n",
        "    # 모델을 통해 이미지 전달하여 MOS 및 은닉 상태 계산\n",
        "    mos, _ = model(image)\n",
        "    output_sentence = []\n",
        "\n",
        "    # 시작 토큰 설정\n",
        "    current_token = torch.tensor([word2idx['<SOS>']]).cuda()\n",
        "    hidden = None\n",
        "    features = model.cnn(image).view(image.size(0), -1)\n",
        "\n",
        "    for _ in range(max_length):\n",
        "        # 현재 토큰을 임베딩하고 모델에 전달하여 다음 토큰 예측\n",
        "        embeddings = model.embedding(current_token).unsqueeze(0)\n",
        "        combined = torch.cat([features.unsqueeze(1), embeddings], dim=2)\n",
        "        # out, hidden = model.lstm(combined, hidden) # Captioning model : LSTM\n",
        "        out, hidden = model.gru(combined, hidden) # Captioning model : GRU\n",
        "        output = model.fc(out.squeeze(0))\n",
        "        _, current_token = torch.max(output, dim=1)\n",
        "\n",
        "        # <EOS> 토큰에 도달하면 반복 중지\n",
        "        if current_token.item() == word2idx['<EOS>']:\n",
        "            break\n",
        "        # <SOS> 또는 <PAD> 토큰은 생성한 캡션에 추가하지 않음\n",
        "        if current_token.item() not in [word2idx['<SOS>'], word2idx['<PAD>']]:\n",
        "            output_sentence.append(idx2word[current_token.item()])\n",
        "\n",
        "    return mos.item(), ' '.join(output_sentence)"
      ],
      "id": "e881eb92-a172-479e-92e2-38f852a488e5"
    },
    {
      "cell_type": "code",
      "source": [
        "# 추론 과정\n",
        "with torch.no_grad():\n",
        "    for imgs, _, _ in tqdm(test_loader):\n",
        "        for img in imgs:\n",
        "            img = img.float().cuda()\n",
        "            # 각 이미지에 대해 greedy decode 함수를 사용하여 MOS 및 캡션 예측\n",
        "            mos, caption = greedy_decode(model, img)\n",
        "            # 예측 결과를 리스트에 추가\n",
        "            predicted_mos_list.append(mos)\n",
        "            predicted_comments_list.append(caption)"
      ],
      "metadata": {
        "colab": {
          "base_uri": "https://localhost:8080/"
        },
        "id": "G2zIgIp5hdLU",
        "outputId": "184e21d4-efc9-42b0-9557-49fc806aec33"
      },
      "id": "G2zIgIp5hdLU",
      "execution_count": 40,
      "outputs": [
        {
          "output_type": "stream",
          "name": "stderr",
          "text": [
            "100%|██████████| 1/1 [00:01<00:00,  1.23s/it]\n"
          ]
        }
      ]
    },
    {
      "cell_type": "code",
      "source": [
        "predicted_comments_list"
      ],
      "metadata": {
        "colab": {
          "base_uri": "https://localhost:8080/"
        },
        "id": "gXyRFnialDj-",
        "outputId": "a7e97abc-b51c-41ed-ebc1-07d213b88a92"
      },
      "id": "gXyRFnialDj-",
      "execution_count": 41,
      "outputs": [
        {
          "output_type": "execute_result",
          "data": {
            "text/plain": [
              "['too too too too too too too too too too too too too too too too too too too too too too too too too too too too too too too too too too too too too too too too too too too too too too too too too too',\n",
              " 'too too too too too too too too too too too too too too too too too too too too too too too too too too too too too too too too too too too too too too too too too too too too too too too too too too',\n",
              " 'too too too too too too too too too too too too too too too too too too too too too too too too too too too too too too too too too too too too too too too too too too too too too too too too too too',\n",
              " 'too too too too too too too too too too too too too too too too too too too too too too too too too too too too too too too too too too too too too too too too too too too too too too too too too too',\n",
              " 'too too too too too too too too too too too too too too too too too too too too too too too too too too too too too too too too too too too too too too too too too too too too too too too too too too',\n",
              " 'too too too too too too too too too too too too too too too too too too too too too too too too too too too too too too too too too too too too too too too too too too too too too too too too too too',\n",
              " 'too too too too too too too too too too too too too too too too too too too too too too too too too too too too too too too too too too too too too too too too too too too too too too too too too too',\n",
              " 'too too too too too too too too too too too too too too too too too too too too too too too too too too too too too too too too too too too too too too too too too too too too too too too too too too',\n",
              " 'too nice nice nice nice nice nice nice nice nice nice nice nice nice nice nice nice nice nice nice nice nice nice nice nice nice nice nice nice nice nice nice nice nice nice nice nice nice nice nice nice nice nice nice nice nice nice nice nice nice',\n",
              " 'too too too too too too too too too too too too too too too too too too too too too too too too too too too too too too too too too too too too too too too too too too too too too too too too too too',\n",
              " 'too too too too too too too too too too too too too too too too too too too too too too too too too too too too too too too too too too too too too too too too too too too too too too too too too too',\n",
              " 'too too too too too too too too too too too too too too too too too too too too too too too too too too too too too too too too too too too too too too too too too too too too too too too too too too',\n",
              " 'too too too too too too too too too too too too too too too too too too too too too too too too too too too too too too too too too too too too too too too too too too too too too too too too too too',\n",
              " 'too too too too too too too too too too too too too too too too too too too too too too too too too too too too too too too too too too too too too too too too too too too too too too too too too too',\n",
              " 'too too too too too too too too too too too too too too too too too too too too too too too too too too too too too too too too too too too too too too too too too too too too too too too too too too',\n",
              " 'too too too too too too too too too too too too too too too too too too too too too too too too too too too too too too too too too too too too too too too too too too too too too too too too too too',\n",
              " 'too too too too too too too too too too too too too too too too too too too too too too too too too too too too too too too too too too too too too too too too too too too too too too too too too too',\n",
              " 'too too too too too too too too too too too too too too too too too too too too too too too too too too too too too too too too too too too too too too too too too too too too too too too too too too',\n",
              " 'too too too too too too too too too too too too too too too too too too too too too too too too too too too too too too too too too too too too too too too too too too too too too too too too too too',\n",
              " 'too too too too too too too too too too too too too too too too too too too too too too too too too too too too too too too too too too too too too too too too too too too too too too too too too too',\n",
              " 'too too too too too too too too too too too too too too too too too too too too too too too too too too too too too too too too too too too too too too too too too too too too too too too too too too',\n",
              " 'too too too too too too too too too too too too too too too too too too too too too too too too too too too too too too too too too too too too too too too too too too too too too too too too too too',\n",
              " 'too too too too too too too too too too too too too too too too too too too too too too too too too too too too too too too too too too too too too too too too too too too too too too too too too too',\n",
              " 'too too too too too too too too too too too too too too too too too too too too too too too too too too too too too too too too too too too too too too too too too too too too too too too too too too',\n",
              " 'too too too too too too too too too too too too too too too too too too too too too too too too too too too too too too too too too too too too too too too too too too too too too too too too too too',\n",
              " 'too too too too too too too too too too too too too too too too too too too too too too too too too too too too too too too too too too too too too too too too too too too too too too too too too too',\n",
              " 'too too too too too too too too too too too too too too too too too too too too too too too too too too too too too too too too too too too too too too too too too too too too too too too too too too',\n",
              " 'too too too too too too too too too too too too too too too too too too too too too too too too too too too too too too too too too too too too too too too too too too too too too too too too too too',\n",
              " 'too too too too too too too too too too too too too too too too too too too too too too too too too too too too too too too too too too too too too too too too too too too too too too too too too too',\n",
              " 'too too too too too too too too too too too too too too too too too too too too too too too too too too too too too too too too too too too too too too too too too too too too too too too too too too',\n",
              " 'too too too too too too too too too too too too too too too too too too too too too too too too too too too too too too too too too too too too too too too too too too too too too too too too too too',\n",
              " 'too too too too too too too too too too too too too too too too too too too too too too too too too too too too too too too too too too too too too too too too too too too too too too too too too too',\n",
              " 'too too too too too too too too too too too too too too too too too too too too too too too too too too too too too too too too too too too too too too too too too too too too too too too too too too',\n",
              " 'too too too too too too too too too too too too too too too too too too too too too too too too too too too too too too too too too too too too too too too too too too too too too too too too too too',\n",
              " 'too too too too too too too too too too too too too too too too too too too too too too too too too too too too too too too too too too too too too too too too too too too too too too too too too too',\n",
              " 'too too too too too too too too too too too too too too too too too too too too too too too too too too too too too too too too too too too too too too too too too too too too too too too too too too',\n",
              " 'too too too too too too too too too too too too too too too too too too too too too too too too too too too too too too too too too too too too too too too too too too too too too too too too too too',\n",
              " 'too too too too too too too too too too too too too too too too too too too too too too too too too too too too too too too too too too too too too too too too too too too too too too too too too too',\n",
              " 'too nice nice nice nice nice nice nice nice nice nice nice nice nice nice nice nice nice nice nice nice nice nice nice nice nice nice nice nice nice nice nice nice nice nice nice nice nice nice nice nice nice nice nice nice nice nice nice nice nice',\n",
              " 'too too too too too too too too too too too too too too too too too too too too too too too too too too too too too too too too too too too too too too too too too too too too too too too too too too',\n",
              " 'too too too too too too too too too too too too too too too too too too too too too too too too too too too too too too too too too too too too too too too too too too too too too too too too too too',\n",
              " 'too too too too too too too too too too too too too too too too too too too too too too too too too too too too too too too too too too too too too too too too too too too too too too too too too too',\n",
              " 'too too too too too too too too too too too too too too too too too too too too too too too too too too too too too too too too too too too too too too too too too too too too too too too too too too',\n",
              " 'too too too too too too too too too too too too too too too too too too too too too too too too too too too too too too too too too too too too too too too too too too too too too too too too too too',\n",
              " 'too too too too too too too too too too too too too too too too too too too too too too too too too too too too too too too too too too too too too too too too too too too too too too too too too too',\n",
              " 'too too too too too too too too too too too too too too too too too too too too too too too too too too too too too too too too too too too too too too too too too too too too too too too too too too',\n",
              " 'too too too too too too too too too too too too too too too too too too too too too too too too too too too too too too too too too too too too too too too too too too too too too too too too too too',\n",
              " 'too too too too too too too too too too too too too too too too too too too too too too too too too too too too too too too too too too too too too too too too too too too too too too too too too too',\n",
              " 'too too too too too too too too too too too too too too too too too too too too too too too too too too too too too too too too too too too too too too too too too too too too too too too too too too',\n",
              " 'too too too too too too too too too too too too too too too too too too too too too too too too too too too too too too too too too too too too too too too too too too too too too too too too too too',\n",
              " 'too too too too too too too too too too too too too too too too too too too too too too too too too too too too too too too too too too too too too too too too too too too too too too too too too too',\n",
              " 'too too too too too too too too too too too too too too too too too too too too too too too too too too too too too too too too too too too too too too too too too too too too too too too too too too',\n",
              " 'too too too too too too too too too too too too too too too too too too too too too too too too too too too too too too too too too too too too too too too too too too too too too too too too too too',\n",
              " 'too too too too too too too too too too too too too too too too too too too too too too too too too too too too too too too too too too too too too too too too too too too too too too too too too too',\n",
              " 'too too too too too too too too too too too too too too too too too too too too too too too too too too too too too too too too too too too too too too too too too too too too too too too too too too',\n",
              " 'too too too too too too too too too too too too too too too too too too too too too too too too too too too too too too too too too too too too too too too too too too too too too too too too too too',\n",
              " 'too too too too too too too too too too too too too too too too too too too too too too too too too too too too too too too too too too too too too too too too too too too too too too too too too too',\n",
              " 'too too too too too too too too too too too too too too too too too too too too too too too too too too too too too too too too too too too too too too too too too too too too too too too too too too',\n",
              " 'too too too too too too too too too too too too too too too too too too too too too too too too too too too too too too too too too too too too too too too too too too too too too too too too too too',\n",
              " 'too too too too too too too too too too too too too too too too too too too too too too too too too too too too too too too too too too too too too too too too too too too too too too too too too too',\n",
              " 'too too too too too too too too too too too too too too too too too too too too too too too too too too too too too too too too too too too too too too too too too too too too too too too too too too',\n",
              " 'too too too too too too too too too too too too too too too too too too too too too too too too too too too too too too too too too too too too too too too too too too too too too too too too too too',\n",
              " 'too too too too too too too too too too too too too too too too too too too too too too too too too too too too too too too too too too too too too too too too too too too too too too too too too too',\n",
              " 'too too too too too too too too too too too too too too too too too too too too too too too too too too too too too too too too too too too too too too too too too too too too too too too too too too',\n",
              " 'too too too too too too too too too too too too too too too too too too too too too too too too too too too too too too too too too too too too too too too too too too too too too too too too too too',\n",
              " 'too too too too too too too too too too too too too too too too too too too too too too too too too too too too too too too too too too too too too too too too too too too too too too too too too too',\n",
              " 'too too too too too too too too too too too too too too too too too too too too too too too too too too too too too too too too too too too too too too too too too too too too too too too too too too',\n",
              " 'too too too too too too too too too too too too too too too too too too too too too too too too too too too too too too too too too too too too too too too too too too too too too too too too too too',\n",
              " 'too nice nice nice nice nice nice nice nice nice nice nice nice nice nice nice nice nice nice nice nice nice nice nice nice nice nice nice nice nice nice nice nice nice nice nice nice nice nice nice nice nice nice nice nice nice nice nice nice nice',\n",
              " 'too too too too too too too too too too too too too too too too too too too too too too too too too too too too too too too too too too too too too too too too too too too too too too too too too too',\n",
              " 'too too too too too too too too too too too too too too too too too too too too too too too too too too too too too too too too too too too too too too too too too too too too too too too too too too',\n",
              " 'too too too too too too too too too too too too too too too too too too too too too too too too too too too too too too too too too too too too too too too too too too too too too too too too too too',\n",
              " 'too too too too too too too too too too too too too too too too too too too too too too too too too too too too too too too too too too too too too too too too too too too too too too too too too too',\n",
              " 'too too too too too too too too too too too too too too too too too too too too too too too too too too too too too too too too too too too too too too too too too too too too too too too too too too',\n",
              " 'too too too too too too too too too too too too too too too too too too too too too too too too too too too too too too too too too too too too too too too too too too too too too too too too too too',\n",
              " 'too too too too too too too too too too too too too too too too too too too too too too too too too too too too too too too too too too too too too too too too too too too too too too too too too too',\n",
              " 'too too too too too too too too too too too too too too too too too too too too too too too too too too too too too too too too too too too too too too too too too too too too too too too too too too',\n",
              " 'too too too too too too too too too too too too too too too too too too too too too too too too too too too too too too too too too too too too too too too too too too too too too too too too too too',\n",
              " 'too too too too too too too too too too too too too too too too too too too too too too too too too too too too too too too too too too too too too too too too too too too too too too too too too too',\n",
              " 'too too too too too too too too too too too too too too too too too too too too too too too too too too too too too too too too too too too too too too too too too too too too too too too too too too',\n",
              " 'too too too too too too too too too too too too too too too too too too too too too too too too too too too too too too too too too too too too too too too too too too too too too too too too too too',\n",
              " 'too too too too too too too too too too too too too too too too too too too too too too too too too too too too too too too too too too too too too too too too too too too too too too too too too too',\n",
              " 'too too too too too too too too too too too too too too too too too too too too too too too too too too too too too too too too too too too too too too too too too too too too too too too too too too',\n",
              " 'too too too too too too too too too too too too too too too too too too too too too too too too too too too too too too too too too too too too too too too too too too too too too too too too too too',\n",
              " 'too too too too too too too too too too too too too too too too too too too too too too too too too too too too too too too too too too too too too too too too too too too too too too too too too too',\n",
              " 'too too too too too too too too too too too too too too too too too too too too too too too too too too too too too too too too too too too too too too too too too too too too too too too too too too',\n",
              " 'too too too too too too too too too too too too too too too too too too too too too too too too too too too too too too too too too too too too too too too too too too too too too too too too too too',\n",
              " 'too too too too too too too too too too too too too too too too too too too too too too too too too too too too too too too too too too too too too too too too too too too too too too too too too too',\n",
              " 'too too too too too too too too too too too too too too too too too too too too too too too too too too too too too too too too too too too too too too too too too too too too too too too too too too',\n",
              " 'too too too too too too too too too too too too too too too too too too too too too too too too too too too too too too too too too too too too too too too too too too too too too too too too too too',\n",
              " 'too too too too too too too too too too too too too too too too too too too too too too too too too too too too too too too too too too too too too too too too too too too too too too too too too too',\n",
              " 'too too too too too too too too too too too too too too too too too too too too too too too too too too too too too too too too too too too too too too too too too too too too too too too too too too',\n",
              " 'too too too too too too too too too too too too too too too too too too too too too too too too too too too too too too too too too too too too too too too too too too too too too too too too too too',\n",
              " 'too too too too too too too too too too too too too too too too too too too too too too too too too too too too too too too too too too too too too too too too too too too too too too too too too too',\n",
              " 'too too too too too too too too too too too too too too too too too too too too too too too too too too too too too too too too too too too too too too too too too too too too too too too too too too',\n",
              " 'too too too too too too too too too too too too too too too too too too too too too too too too too too too too too too too too too too too too too too too too too too too too too too too too too too',\n",
              " 'too too too too too too too too too too too too too too too too too too too too too too too too too too too too too too too too too too too too too too too too too too too too too too too too too too',\n",
              " 'too too too too too too too too too too too too too too too too too too too too too too too too too too too too too too too too too too too too too too too too too too too too too too too too too too',\n",
              " 'too nice nice nice nice nice nice nice nice nice nice nice nice nice nice nice nice nice nice nice nice nice nice nice nice nice nice nice nice nice nice nice nice nice nice nice nice nice nice nice nice nice nice nice nice nice nice nice nice nice',\n",
              " 'too too too too too too too too too too too too too too too too too too too too too too too too too too too too too too too too too too too too too too too too too too too too too too too too too too',\n",
              " 'too too too too too too too too too too too too too too too too too too too too too too too too too too too too too too too too too too too too too too too too too too too too too too too too too too',\n",
              " 'too too too too too too too too too too too too too too too too too too too too too too too too too too too too too too too too too too too too too too too too too too too too too too too too too too',\n",
              " 'too too too too too too too too too too too too too too too too too too too too too too too too too too too too too too too too too too too too too too too too too too too too too too too too too too',\n",
              " 'too too too too too too too too too too too too too too too too too too too too too too too too too too too too too too too too too too too too too too too too too too too too too too too too too too',\n",
              " 'too too too too too too too too too too too too too too too too too too too too too too too too too too too too too too too too too too too too too too too too too too too too too too too too too too',\n",
              " 'too too too too too too too too too too too too too too too too too too too too too too too too too too too too too too too too too too too too too too too too too too too too too too too too too too',\n",
              " 'too too too too too too too too too too too too too too too too too too too too too too too too too too too too too too too too too too too too too too too too too too too too too too too too too too',\n",
              " 'too too too too too too too too too too too too too too too too too too too too too too too too too too too too too too too too too too too too too too too too too too too too too too too too too too',\n",
              " 'too too too too too too too too too too too too too too too too too too too too too too too too too too too too too too too too too too too too too too too too too too too too too too too too too too',\n",
              " 'too too too too too too too too too too too too too too too too too too too too too too too too too too too too too too too too too too too too too too too too too too too too too too too too too too',\n",
              " 'too too too too too too too too too too too too too too too too too too too too too too too too too too too too too too too too too too too too too too too too too too too too too too too too too too',\n",
              " 'too too too too too too too too too too too too too too too too too too too too too too too too too too too too too too too too too too too too too too too too too too too too too too too too too too',\n",
              " 'too too too too too too too too too too too too too too too too too too too too too too too too too too too too too too too too too too too too too too too too too too too too too too too too too too',\n",
              " 'too too too too too too too too too too too too too too too too too too too too too too too too too too too too too too too too too too too too too too too too too too too too too too too too too too',\n",
              " 'too too too too too too too too too too too too too too too too too too too too too too too too too too too too too too too too too too too too too too too too too too too too too too too too too too',\n",
              " 'too too too too too too too too too too too too too too too too too too too too too too too too too too too too too too too too too too too too too too too too too too too too too too too too too too',\n",
              " 'too too too too too too too too too too too too too too too too too too too too too too too too too too too too too too too too too too too too too too too too too too too too too too too too too too',\n",
              " 'too too too too too too too too too too too too too too too too too too too too too too too too too too too too too too too too too too too too too too too too too too too too too too too too too too',\n",
              " 'too too too too too too too too too too too too too too too too too too too too too too too too too too too too too too too too too too too too too too too too too too too too too too too too too too',\n",
              " 'too too too too too too too too too too too too too too too too too too too too too too too too too too too too too too too too too too too too too too too too too too too too too too too too too too']"
            ]
          },
          "metadata": {},
          "execution_count": 41
        }
      ]
    },
    {
      "cell_type": "code",
      "source": [
        "# 결과 저장\n",
        "result_df = pd.DataFrame({\n",
        "    'img_name': test_data['img_name'],\n",
        "    'mos': predicted_mos_list,\n",
        "    'comments': predicted_comments_list  # 캡션 부분은 위에서 생성한 것을 사용\n",
        "})\n",
        "\n",
        "# 예측 결과에 NaN이 있다면, 제출 시 오류가 발생하므로 후처리 진행 (sample_submission.csv과 동일하게)\n",
        "result_df['comments'] = result_df['comments'].fillna('Nice Image.')\n",
        "result_df.to_csv(f'/content/drive/MyDrive/Tave_Project_MultiModal/Data/submit/submit_{version_name}.csv', index=False)\n",
        "\n",
        "print(\"Inference completed and results saved to submit.csv.\")"
      ],
      "metadata": {
        "colab": {
          "base_uri": "https://localhost:8080/"
        },
        "id": "7_yVN4rehZvI",
        "outputId": "399088d0-5e6d-4641-8296-3032ae4c5482"
      },
      "id": "7_yVN4rehZvI",
      "execution_count": 24,
      "outputs": [
        {
          "output_type": "stream",
          "name": "stdout",
          "text": [
            "Inference completed and results saved to submit.csv.\n"
          ]
        }
      ]
    }
  ],
  "metadata": {
    "accelerator": "GPU",
    "colab": {
      "machine_shape": "hm",
      "provenance": [],
      "gpuType": "T4",
      "include_colab_link": true
    },
    "kernelspec": {
      "display_name": "Python 3",
      "name": "python3"
    },
    "language_info": {
      "codemirror_mode": {
        "name": "ipython",
        "version": 3
      },
      "file_extension": ".py",
      "mimetype": "text/x-python",
      "name": "python",
      "nbconvert_exporter": "python",
      "pygments_lexer": "ipython3",
      "version": "3.8.10"
    }
  },
  "nbformat": 4,
  "nbformat_minor": 5
}